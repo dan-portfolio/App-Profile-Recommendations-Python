{
 "cells": [
  {
   "cell_type": "markdown",
   "metadata": {},
   "source": [
    "Mobile App Data Analysis\n",
    "\n",
    "This project is to analyze a data set for our free-to-use mobile applications to identify which types of apps are most likely to draw in users. This will be helpful because the more users interact with our apps, the more ad-revenue is generated, which is the main source of revenue for the company."
   ]
  },
  {
   "cell_type": "code",
   "execution_count": 4,
   "metadata": {
    "collapsed": true
   },
   "outputs": [],
   "source": [
    "def explore_data(dataset, start, end, rows_and_columns=False):\n",
    "    dataset_slice = dataset[start:end]    \n",
    "    for row in dataset_slice:\n",
    "        print(row)\n",
    "        print('\\n') # adds a new (empty) line after each row\n",
    "\n",
    "    if rows_and_columns:\n",
    "        print('Number of rows:', len(dataset))\n",
    "        print('Number of columns:', len(dataset[0]))"
   ]
  },
  {
   "cell_type": "code",
   "execution_count": null,
   "metadata": {
    "collapsed": false
   },
   "outputs": [],
   "source": [
    "from csv import reader\n",
    "\n",
    "open_apple = open(\"AppleStore.csv\")\n",
    "read_apple = reader(open_apple)\n",
    "apple_data = list(read_apple)\n",
    "\n",
    "open_android = open(\"googleplaystore.csv\")\n",
    "read_android = reader(open_android)\n",
    "android_data = list(read_android)"
   ]
  },
  {
   "cell_type": "code",
   "execution_count": 39,
   "metadata": {
    "collapsed": false
   },
   "outputs": [
    {
     "name": "stdout",
     "output_type": "stream",
     "text": [
      "['id', 'track_name', 'size_bytes', 'currency', 'price', 'rating_count_tot', 'rating_count_ver', 'user_rating', 'user_rating_ver', 'ver', 'cont_rating', 'prime_genre', 'sup_devices.num', 'ipadSc_urls.num', 'lang.num', 'vpp_lic']\n",
      "\n",
      "\n",
      "['284882215', 'Facebook', '389879808', 'USD', '0.0', '2974676', '212', '3.5', '3.5', '95.0', '4+', 'Social Networking', '37', '1', '29', '1']\n",
      "\n",
      "\n",
      "['389801252', 'Instagram', '113954816', 'USD', '0.0', '2161558', '1289', '4.5', '4.0', '10.23', '12+', 'Photo & Video', '37', '0', '29', '1']\n",
      "\n",
      "\n",
      "Number of rows: 7198\n",
      "Number of columns: 16\n",
      "['App', 'Category', 'Rating', 'Reviews', 'Size', 'Installs', 'Type', 'Price', 'Content Rating', 'Genres', 'Last Updated', 'Current Ver', 'Android Ver']\n",
      "\n",
      "\n",
      "['Photo Editor & Candy Camera & Grid & ScrapBook', 'ART_AND_DESIGN', '4.1', '159', '19M', '10,000+', 'Free', '0', 'Everyone', 'Art & Design', 'January 7, 2018', '1.0.0', '4.0.3 and up']\n",
      "\n",
      "\n",
      "['Coloring book moana', 'ART_AND_DESIGN', '3.9', '967', '14M', '500,000+', 'Free', '0', 'Everyone', 'Art & Design;Pretend Play', 'January 15, 2018', '2.0.0', '4.0.3 and up']\n",
      "\n",
      "\n",
      "Number of rows: 10841\n",
      "Number of columns: 13\n"
     ]
    }
   ],
   "source": [
    "explore_data(apple_data, 0, 3, rows_and_columns=True)\n",
    "explore_data(android_data, 0, 3, rows_and_columns=True)"
   ]
  },
  {
   "cell_type": "code",
   "execution_count": 21,
   "metadata": {
    "collapsed": false
   },
   "outputs": [
    {
     "name": "stdout",
     "output_type": "stream",
     "text": [
      "['id', 'track_name', 'size_bytes', 'currency', 'price', 'rating_count_tot', 'rating_count_ver', 'user_rating', 'user_rating_ver', 'ver', 'cont_rating', 'prime_genre', 'sup_devices.num', 'ipadSc_urls.num', 'lang.num', 'vpp_lic']\n",
      "['App', 'Category', 'Rating', 'Reviews', 'Size', 'Installs', 'Type', 'Price', 'Content Rating', 'Genres', 'Last Updated', 'Current Ver', 'Android Ver']\n"
     ]
    }
   ],
   "source": [
    "print(apple_data[0])\n",
    "print(android_data[0])"
   ]
  },
  {
   "cell_type": "code",
   "execution_count": 23,
   "metadata": {
    "collapsed": false
   },
   "outputs": [
    {
     "name": "stdout",
     "output_type": "stream",
     "text": [
      "['Life Made WI-Fi Touchscreen Photo Frame', '1.9', '19', '3.0M', '1,000+', 'Free', '0', 'Everyone', '', 'February 11, 2018', '1.0.19', '4.0 and up']\n"
     ]
    }
   ],
   "source": [
    "print(android_data[10473])"
   ]
  },
  {
   "cell_type": "code",
   "execution_count": 24,
   "metadata": {
    "collapsed": true
   },
   "outputs": [],
   "source": [
    "del android_data[10473]"
   ]
  },
  {
   "cell_type": "code",
   "execution_count": 25,
   "metadata": {
    "collapsed": false
   },
   "outputs": [
    {
     "name": "stdout",
     "output_type": "stream",
     "text": [
      "['osmino Wi-Fi: free WiFi', 'TOOLS', '4.2', '134203', '4.1M', '10,000,000+', 'Free', '0', 'Everyone', 'Tools', 'August 7, 2018', '6.06.14', '4.4 and up']\n"
     ]
    }
   ],
   "source": [
    "print(android_data[10473])"
   ]
  },
  {
   "cell_type": "markdown",
   "metadata": {},
   "source": [
    "The Google Play data has duplicate entries that will need to be cleaned."
   ]
  },
  {
   "cell_type": "code",
   "execution_count": 26,
   "metadata": {
    "collapsed": false
   },
   "outputs": [
    {
     "name": "stdout",
     "output_type": "stream",
     "text": [
      "['Instagram', 'SOCIAL', '4.5', '66577313', 'Varies with device', '1,000,000,000+', 'Free', '0', 'Teen', 'Social', 'July 31, 2018', 'Varies with device', 'Varies with device']\n",
      "['Instagram', 'SOCIAL', '4.5', '66577446', 'Varies with device', '1,000,000,000+', 'Free', '0', 'Teen', 'Social', 'July 31, 2018', 'Varies with device', 'Varies with device']\n",
      "['Instagram', 'SOCIAL', '4.5', '66577313', 'Varies with device', '1,000,000,000+', 'Free', '0', 'Teen', 'Social', 'July 31, 2018', 'Varies with device', 'Varies with device']\n",
      "['Instagram', 'SOCIAL', '4.5', '66509917', 'Varies with device', '1,000,000,000+', 'Free', '0', 'Teen', 'Social', 'July 31, 2018', 'Varies with device', 'Varies with device']\n"
     ]
    }
   ],
   "source": [
    "for app in android_data:\n",
    "    name = app[0]\n",
    "    if name == 'Instagram':\n",
    "        print(app)"
   ]
  },
  {
   "cell_type": "code",
   "execution_count": 27,
   "metadata": {
    "collapsed": false
   },
   "outputs": [
    {
     "name": "stdout",
     "output_type": "stream",
     "text": [
      "Number of duplicate apps: 1181\n",
      "Number of unique apps: 9660\n"
     ]
    }
   ],
   "source": [
    "duplicate_apps = []\n",
    "unique_apps = []\n",
    "\n",
    "for app in android_data:\n",
    "    name = app[0]\n",
    "    if name in unique_apps:\n",
    "        duplicate_apps.append(name)\n",
    "    else:\n",
    "        unique_apps.append(name)\n",
    "print('Number of duplicate apps:', len(duplicate_apps))\n",
    "print('Number of unique apps:', len(unique_apps))"
   ]
  },
  {
   "cell_type": "markdown",
   "metadata": {},
   "source": [
    "We are going to remove duplicates, keeping the record that has the highest review count as that will be the most recent record. We start by identifying which duplicate row has the most reviews:"
   ]
  },
  {
   "cell_type": "code",
   "execution_count": 30,
   "metadata": {
    "collapsed": false
   },
   "outputs": [
    {
     "name": "stdout",
     "output_type": "stream",
     "text": [
      "9659\n"
     ]
    }
   ],
   "source": [
    "reviews_max = {}\n",
    "\n",
    "for app in android_data[1:]:\n",
    "    name = app[0]\n",
    "    n_reviews = float(app[3])\n",
    "    if name in reviews_max and reviews_max[name] < n_reviews:\n",
    "        reviews_max[name] = n_reviews\n",
    "    elif name not in reviews_max:\n",
    "        reviews_max[name] = n_reviews\n",
    "        \n",
    "print(len(reviews_max))"
   ]
  },
  {
   "cell_type": "markdown",
   "metadata": {},
   "source": [
    "Next we will match the row with the most reviews and place the whole row into a new list, which will only contain the unique app set. "
   ]
  },
  {
   "cell_type": "code",
   "execution_count": 31,
   "metadata": {
    "collapsed": false
   },
   "outputs": [
    {
     "name": "stdout",
     "output_type": "stream",
     "text": [
      "9659\n"
     ]
    }
   ],
   "source": [
    "android_clean = []\n",
    "already_added = []\n",
    "\n",
    "for app in android_data[1:]:\n",
    "    name = app[0]\n",
    "    n_reviews = float(app[3])\n",
    "    if n_reviews == reviews_max[name] and name not in already_added:\n",
    "        android_clean.append(app)\n",
    "        already_added.append(name)\n",
    "\n",
    "print(len(android_clean))"
   ]
  },
  {
   "cell_type": "markdown",
   "metadata": {},
   "source": [
    "Below, we define a function to determine if the app name contains mostly English characters. If more than 3 non english characters are found, it will return False."
   ]
  },
  {
   "cell_type": "code",
   "execution_count": 33,
   "metadata": {
    "collapsed": false
   },
   "outputs": [
    {
     "name": "stdout",
     "output_type": "stream",
     "text": [
      "True\n",
      "False\n",
      "True\n",
      "True\n"
     ]
    }
   ],
   "source": [
    "def is_english(str):\n",
    "    bad_count = 0\n",
    "    for c in str:\n",
    "        if ord(c) > 127:\n",
    "            bad_count += 1\n",
    "            if bad_count > 2:\n",
    "                return False\n",
    "    return True\n",
    "    \n",
    "print(is_english('Instagram'))\n",
    "print(is_english('爱奇艺PPS -《欢乐颂2》电视剧热播'))\n",
    "print(is_english('Docs To Go™ Free Office Suite'))\n",
    "print(is_english('Instachat 😜'))"
   ]
  },
  {
   "cell_type": "code",
   "execution_count": 45,
   "metadata": {
    "collapsed": false
   },
   "outputs": [
    {
     "name": "stdout",
     "output_type": "stream",
     "text": [
      "6155\n",
      "10778\n"
     ]
    }
   ],
   "source": [
    "eng_apple_apps = []\n",
    "eng_android_apps = []\n",
    "\n",
    "for app in apple_data[1:]:\n",
    "    name = app[1]\n",
    "    if is_english(name):\n",
    "        eng_apple_apps.append(app)\n",
    "\n",
    "for app in android_data[1:]:\n",
    "    name = app[0]\n",
    "    if is_english(name):\n",
    "        eng_android_apps.append(app)\n",
    "        \n",
    "print(len(eng_apple_apps))\n",
    "print(len(eng_android_apps))"
   ]
  },
  {
   "cell_type": "code",
   "execution_count": 46,
   "metadata": {
    "collapsed": false
   },
   "outputs": [
    {
     "name": "stdout",
     "output_type": "stream",
     "text": [
      "['284882215', 'Facebook', '389879808', 'USD', '0.0', '2974676', '212', '3.5', '3.5', '95.0', '4+', 'Social Networking', '37', '1', '29', '1']\n",
      "id\n"
     ]
    }
   ],
   "source": [
    "print(eng_apple_apps[0])"
   ]
  },
  {
   "cell_type": "code",
   "execution_count": 48,
   "metadata": {
    "collapsed": false
   },
   "outputs": [
    {
     "name": "stdout",
     "output_type": "stream",
     "text": [
      "3203\n",
      "9983\n"
     ]
    }
   ],
   "source": [
    "free_apple_apps = []\n",
    "free_android_apps = []\n",
    "\n",
    "for app in eng_apple_apps:\n",
    "    if float(app[4]) == 0.0:\n",
    "        free_apple_apps.append(app)\n",
    "for app in eng_android_apps:\n",
    "    if float(app[7].replace('$', '')) == 0.0:\n",
    "        free_android_apps.append(app)\n",
    "\n",
    "print(len(free_apple_apps))\n",
    "print(len(free_android_apps))"
   ]
  },
  {
   "cell_type": "code",
   "execution_count": 51,
   "metadata": {
    "collapsed": false,
    "scrolled": true
   },
   "outputs": [
    {
     "name": "stdout",
     "output_type": "stream",
     "text": [
      "['Photo Editor & Candy Camera & Grid & ScrapBook', 'ART_AND_DESIGN', '4.1', '159', '19M', '10,000+', 'Free', '0', 'Everyone', 'Art & Design', 'January 7, 2018', '1.0.0', '4.0.3 and up']\n"
     ]
    }
   ],
   "source": [
    "print(free_android_apps[0])"
   ]
  },
  {
   "cell_type": "markdown",
   "metadata": {},
   "source": [
    "We want to find app types that are popular on both android and apple. The strategy for building apps is:\n",
    "1. Build minimal Android version and add it to Google Play\n",
    "2. If the app has a good user response, develop it further\n",
    "3. If the app is profitable after 6 months, build iOS version and add to App Store\n",
    "\n",
    "Next we will do a frequency count of the genre type categories in the data sets (prime_genre, Category, and Genres)"
   ]
  },
  {
   "cell_type": "code",
   "execution_count": 55,
   "metadata": {
    "collapsed": false
   },
   "outputs": [
    {
     "name": "stdout",
     "output_type": "stream",
     "text": [
      "Games : 1866\n",
      "Entertainment : 251\n",
      "Photo & Video : 160\n",
      "Education : 118\n",
      "Social Networking : 106\n",
      "Shopping : 83\n",
      "Utilities : 79\n",
      "Sports : 69\n",
      "Music : 66\n",
      "Health & Fitness : 65\n",
      "Productivity : 56\n",
      "Lifestyle : 50\n",
      "News : 43\n",
      "Travel : 40\n",
      "Finance : 35\n",
      "Weather : 28\n",
      "Food & Drink : 26\n",
      "Reference : 17\n",
      "Business : 17\n",
      "Book : 12\n",
      "Navigation : 6\n",
      "Medical : 6\n",
      "Catalogs : 4\n",
      "\n",
      "\n",
      "FAMILY : 1767\n",
      "GAME : 1055\n",
      "TOOLS : 762\n",
      "BUSINESS : 445\n",
      "PRODUCTIVITY : 395\n",
      "SPORTS : 359\n",
      "COMMUNICATION : 358\n",
      "LIFESTYLE : 357\n",
      "MEDICAL : 354\n",
      "FINANCE : 349\n",
      "HEALTH_AND_FITNESS : 325\n",
      "PHOTOGRAPHY : 312\n",
      "PERSONALIZATION : 308\n",
      "SOCIAL : 292\n",
      "NEWS_AND_MAGAZINES : 277\n",
      "SHOPPING : 257\n",
      "TRAVEL_AND_LOCAL : 246\n",
      "DATING : 227\n",
      "BOOKS_AND_REFERENCE : 198\n",
      "VIDEO_PLAYERS : 170\n",
      "EDUCATION : 151\n",
      "ENTERTAINMENT : 147\n",
      "MAPS_AND_NAVIGATION : 129\n",
      "FOOD_AND_DRINK : 125\n",
      "HOUSE_AND_HOME : 86\n",
      "LIBRARIES_AND_DEMO : 84\n",
      "AUTO_AND_VEHICLES : 82\n",
      "WEATHER : 73\n",
      "EVENTS : 63\n",
      "ART_AND_DESIGN : 61\n",
      "PARENTING : 58\n",
      "COMICS : 58\n",
      "BEAUTY : 53\n",
      "\n",
      "\n",
      "Tools : 761\n",
      "Entertainment : 600\n",
      "Education : 513\n",
      "Business : 445\n",
      "Productivity : 395\n",
      "Sports : 373\n",
      "Communication : 358\n",
      "Lifestyle : 356\n",
      "Medical : 354\n",
      "Finance : 349\n",
      "Action : 340\n",
      "Health & Fitness : 325\n",
      "Photography : 312\n",
      "Personalization : 308\n",
      "Social : 292\n",
      "News & Magazines : 277\n",
      "Shopping : 257\n",
      "Travel & Local : 245\n",
      "Dating : 227\n",
      "Arcade : 199\n",
      "Books & Reference : 198\n",
      "Simulation : 188\n",
      "Casual : 184\n",
      "Video Players & Editors : 168\n",
      "Maps & Navigation : 129\n",
      "Food & Drink : 125\n",
      "Puzzle : 121\n",
      "Racing : 95\n",
      "Strategy : 93\n",
      "Role Playing : 87\n",
      "House & Home : 86\n",
      "Libraries & Demo : 84\n",
      "Auto & Vehicles : 82\n",
      "Weather : 73\n",
      "Events : 63\n",
      "Adventure : 61\n",
      "Comics : 57\n",
      "Art & Design : 54\n",
      "Beauty : 53\n",
      "Parenting : 44\n",
      "Education;Education : 43\n",
      "Card : 41\n",
      "Educational;Education : 38\n",
      "Trivia : 37\n",
      "Casino : 37\n",
      "Board : 35\n",
      "Educational : 33\n",
      "Word : 29\n",
      "Entertainment;Music & Video : 27\n",
      "Casual;Pretend Play : 25\n",
      "Music : 21\n",
      "Casual;Action & Adventure : 20\n",
      "Racing;Action & Adventure : 19\n",
      "Puzzle;Brain Games : 17\n",
      "Educational;Pretend Play : 14\n",
      "Action;Action & Adventure : 14\n",
      "Casual;Brain Games : 13\n",
      "Arcade;Action & Adventure : 12\n",
      "Simulation;Action & Adventure : 11\n",
      "Adventure;Action & Adventure : 11\n",
      "Entertainment;Brain Games : 8\n",
      "Education;Pretend Play : 8\n",
      "Board;Brain Games : 8\n",
      "Parenting;Education : 7\n",
      "Casual;Creativity : 7\n",
      "Art & Design;Creativity : 7\n",
      "Role Playing;Action & Adventure : 6\n",
      "Parenting;Music & Video : 6\n",
      "Educational;Brain Games : 6\n",
      "Role Playing;Pretend Play : 5\n",
      "Puzzle;Action & Adventure : 5\n",
      "Education;Music & Video : 5\n",
      "Education;Creativity : 5\n",
      "Educational;Action & Adventure : 4\n",
      "Education;Brain Games : 4\n",
      "Education;Action & Adventure : 4\n",
      "Video Players & Editors;Music & Video : 3\n",
      "Simulation;Pretend Play : 3\n",
      "Entertainment;Creativity : 3\n",
      "Entertainment;Action & Adventure : 3\n",
      "Educational;Creativity : 3\n",
      "Video Players & Editors;Creativity : 2\n",
      "Sports;Action & Adventure : 2\n",
      "Puzzle;Creativity : 2\n",
      "Music;Music & Video : 2\n",
      "Entertainment;Pretend Play : 2\n",
      "Casual;Music & Video : 2\n",
      "Casual;Education : 2\n",
      "Board;Action & Adventure : 2\n",
      "Art & Design;Pretend Play : 2\n",
      "Art & Design;Action & Adventure : 2\n",
      "Adventure;Education : 2\n",
      "Trivia;Education : 1\n",
      "Travel & Local;Action & Adventure : 1\n",
      "Tools;Education : 1\n",
      "Strategy;Education : 1\n",
      "Strategy;Creativity : 1\n",
      "Strategy;Action & Adventure : 1\n",
      "Simulation;Education : 1\n",
      "Role Playing;Brain Games : 1\n",
      "Racing;Pretend Play : 1\n",
      "Puzzle;Education : 1\n",
      "Parenting;Brain Games : 1\n",
      "Music & Audio;Music & Video : 1\n",
      "Lifestyle;Pretend Play : 1\n",
      "Lifestyle;Education : 1\n",
      "Health & Fitness;Education : 1\n",
      "Health & Fitness;Action & Adventure : 1\n",
      "Entertainment;Education : 1\n",
      "Communication;Creativity : 1\n",
      "Comics;Creativity : 1\n",
      "Card;Brain Games : 1\n",
      "Card;Action & Adventure : 1\n",
      "Books & Reference;Education : 1\n",
      "Arcade;Pretend Play : 1\n"
     ]
    }
   ],
   "source": [
    "def freq_table(dataset, index):\n",
    "    freq_table = {}\n",
    "    for row in dataset:\n",
    "        data = row[index]\n",
    "        if data in freq_table:\n",
    "            freq_table[data] += 1\n",
    "        else:\n",
    "            freq_table[data] = 1\n",
    "    return freq_table\n",
    "\n",
    "def display_table(dataset, index):\n",
    "    table = freq_table(dataset, index)\n",
    "    table_display = []\n",
    "    for key in table:\n",
    "        key_val_as_tuple = (table[key], key)\n",
    "        table_display.append(key_val_as_tuple)\n",
    "\n",
    "    table_sorted = sorted(table_display, reverse = True)\n",
    "    for entry in table_sorted:\n",
    "        print(entry[1], ':', entry[0])\n",
    "        \n",
    "display_table(free_apple_apps, 11)\n",
    "print(\"\\n\")\n",
    "display_table(free_android_apps, 1)\n",
    "print(\"\\n\")\n",
    "display_table(free_android_apps, 9)"
   ]
  },
  {
   "cell_type": "markdown",
   "metadata": {},
   "source": [
    "From the above frequency counts, we can see that the Apple app data favors games and entertainment, while the Android app data favors a mix of practical and entertainment apps. Now we will find the average amount of user reviews for each Apple app to get an estimate of the total user count."
   ]
  },
  {
   "cell_type": "code",
   "execution_count": 59,
   "metadata": {
    "collapsed": false
   },
   "outputs": [
    {
     "name": "stdout",
     "output_type": "stream",
     "text": [
      "Sports 23008.898550724636\n",
      "Utilities 19156.493670886077\n",
      "Reference 79350.4705882353\n",
      "Education 7003.983050847458\n",
      "Food & Drink 33333.92307692308\n",
      "Business 7491.117647058823\n",
      "Games 22886.36709539121\n",
      "Entertainment 14195.358565737051\n",
      "Photo & Video 28441.54375\n",
      "Music 57326.530303030304\n",
      "Navigation 86090.33333333333\n",
      "Lifestyle 16815.48\n",
      "Weather 52279.892857142855\n",
      "News 21248.023255813954\n",
      "Travel 28243.8\n",
      "Health & Fitness 23298.015384615384\n",
      "Catalogs 4004.0\n",
      "Shopping 27230.734939759037\n",
      "Productivity 21028.410714285714\n",
      "Book 46384.916666666664\n",
      "Social Networking 71548.34905660378\n",
      "Medical 612.0\n",
      "Finance 32367.02857142857\n"
     ]
    }
   ],
   "source": [
    "prime_genre_freq = freq_table(free_apple_apps, 11)\n",
    "\n",
    "for genre in prime_genre_freq:\n",
    "    total = 0\n",
    "    len_genre = 0\n",
    "    for app in free_apple_apps:\n",
    "        genre_app = app[11]\n",
    "        if genre_app == genre:\n",
    "            total += float(app[5])\n",
    "            len_genre += 1\n",
    "    avg_num_ratings = total / len_genre\n",
    "    print(genre, avg_num_ratings)"
   ]
  },
  {
   "cell_type": "markdown",
   "metadata": {},
   "source": [
    "Popular genres are Reference, Social Networking, Navigation, and Weather. Usage seems to be tied to apps that people will use multiple times throughout the day.\n",
    "\n",
    "We will do a similar excercise for the Android data."
   ]
  },
  {
   "cell_type": "code",
   "execution_count": 61,
   "metadata": {
    "collapsed": false
   },
   "outputs": [
    {
     "name": "stdout",
     "output_type": "stream",
     "text": [
      "EVENTS 253542.22222222222\n",
      "BOOKS_AND_REFERENCE 9703958.383838383\n",
      "TRAVEL_AND_LOCAL 27921561.32520325\n",
      "COMICS 966657.7586206896\n",
      "PARENTING 542603.6206896552\n",
      "BUSINESS 2250454.1348314607\n",
      "SOCIAL 48184458.56849315\n",
      "HEALTH_AND_FITNESS 4869225.852307692\n",
      "FINANCE 2511355.6790830945\n",
      "LIBRARIES_AND_DEMO 749950.119047619\n",
      "AUTO_AND_VEHICLES 647317.8170731707\n",
      "WEATHER 5824500.273972603\n",
      "ART_AND_DESIGN 2038050.8196721312\n",
      "PERSONALIZATION 7533233.402597402\n",
      "FOOD_AND_DRINK 2190710.008\n",
      "ENTERTAINMENT 19516734.69387755\n",
      "DATING 1164270.7356828193\n",
      "PHOTOGRAPHY 32321374.407051284\n",
      "EDUCATION 5760596.026490066\n",
      "HOUSE_AND_HOME 1954796.058139535\n",
      "SHOPPING 12637504.221789883\n",
      "LIFESTYLE 1488230.893557423\n",
      "GAME 33141956.82464455\n",
      "MEDICAL 147563.28813559323\n",
      "COMMUNICATION 91189682.09776536\n",
      "PRODUCTIVITY 35885137.50379747\n",
      "NEWS_AND_MAGAZINES 27058831.263537906\n",
      "BEAUTY 513151.88679245283\n",
      "MAPS_AND_NAVIGATION 5574114.573643411\n",
      "TOOLS 15027596.422572179\n",
      "FAMILY 5784094.900962083\n",
      "VIDEO_PLAYERS 36599010.11764706\n",
      "SPORTS 4874319.451253482\n"
     ]
    }
   ],
   "source": [
    "category_freq = freq_table(free_android_apps, 1)\n",
    "\n",
    "for cat in category_freq:\n",
    "    total = 0\n",
    "    len_category = 0\n",
    "    for app in free_android_apps:\n",
    "        category_app = app[1]\n",
    "        if category_app == cat:\n",
    "            installs = app[5]\n",
    "            installs = installs.replace('+', '')\n",
    "            installs = float(installs.replace(',', ''))\n",
    "            total += installs\n",
    "            len_category += 1\n",
    "    avg_installs = total / len_category\n",
    "    print(cat, avg_installs)"
   ]
  },
  {
   "cell_type": "markdown",
   "metadata": {},
   "source": []
  }
 ],
 "metadata": {
  "kernelspec": {
   "display_name": "Python 3",
   "language": "python",
   "name": "python3"
  },
  "language_info": {
   "codemirror_mode": {
    "name": "ipython",
    "version": 3
   },
   "file_extension": ".py",
   "mimetype": "text/x-python",
   "name": "python",
   "nbconvert_exporter": "python",
   "pygments_lexer": "ipython3",
   "version": "3.4.3"
  }
 },
 "nbformat": 4,
 "nbformat_minor": 2
}
